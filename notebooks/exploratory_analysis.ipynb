{
 "cells": [
  {
   "cell_type": "code",
   "execution_count": null,
   "id": "681fb99d",
   "metadata": {},
   "outputs": [],
   "source": [
    "# Jupyter notebook for data exploration\n",
    "import pandas as pd\n",
    "import matplotlib.pyplot as plt\n",
    "import sys\n",
    "sys.path.append('../src')\n",
    "\n",
    "from data.data_loader import load_walmart_data\n",
    "\n",
    "# Load data\n",
    "data, channel_names, dates = load_walmart_data()\n",
    "\n",
    "# Basic analysis\n",
    "print(f\"Data shape: {data.shape}\")\n",
    "print(f\"Channels: {channel_names}\")\n",
    "\n",
    "# Plot sample channels\n",
    "plt.figure(figsize=(15, 10))\n",
    "for i in range(4):\n",
    "    plt.subplot(2, 2, i+1)\n",
    "    plt.plot(data[:, i])\n",
    "    plt.title(channel_names[i])\n",
    "plt.show()"
   ]
  }
 ],
 "metadata": {
  "kernelspec": {
   "display_name": "Python 3",
   "language": "python",
   "name": "python3"
  },
  "language_info": {
   "name": "python",
   "version": "3.11.9"
  }
 },
 "nbformat": 4,
 "nbformat_minor": 5
}
