{
 "cells": [
  {
   "cell_type": "code",
   "execution_count": null,
   "id": "a2a98bf0",
   "metadata": {},
   "outputs": [],
   "source": [
    "# Jupyter notebook for model experimentation\n",
    "import sys\n",
    "sys.path.append('../src')\n",
    "\n",
    "from main import main\n",
    "\n",
    "# Run the main training pipeline\n",
    "main()"
   ]
  }
 ],
 "metadata": {
  "language_info": {
   "name": "python"
  }
 },
 "nbformat": 4,
 "nbformat_minor": 5
}
